{
 "cells": [
  {
   "cell_type": "code",
   "execution_count": 3,
   "metadata": {},
   "outputs": [
    {
     "name": "stderr",
     "output_type": "stream",
     "text": [
      "c:\\Program Files\\Python311\\Lib\\site-packages\\tqdm\\auto.py:21: TqdmWarning: IProgress not found. Please update jupyter and ipywidgets. See https://ipywidgets.readthedocs.io/en/stable/user_install.html\n",
      "  from .autonotebook import tqdm as notebook_tqdm\n"
     ]
    }
   ],
   "source": [
    "import json\n",
    "import ast\n",
    "\n",
    "import pandas as pd\n",
    "from datetime import datetime, timedelta\n",
    "import numpy as np\n",
    "import seaborn as sns\n",
    "import matplotlib.pyplot as plt\n",
    "from scipy.stats import ttest_ind\n",
    "from tqdm.auto import tqdm\n",
    "from scipy.stats import levene\n",
    "import scipy.stats as st\n",
    "import pylab\n",
    "import statsmodels.stats.api as sms\n",
    "import phik\n",
    "\n",
    "import my_hypotheses as hyp\n",
    "import LichessAnalys as li\n",
    "import my_message as ms"
   ]
  },
  {
   "cell_type": "code",
   "execution_count": 4,
   "metadata": {},
   "outputs": [],
   "source": [
    "lichessAnalys = li.LichessAnalys()\n",
    "hypotheses = hyp.ProgressivePlayerCanBeACheater()\n",
    "message_to_send = ms.MessageToSend()"
   ]
  },
  {
   "cell_type": "code",
   "execution_count": 5,
   "metadata": {},
   "outputs": [],
   "source": [
    "df_for_test_group = pd.read_csv('./move_score_and_clocks.csv', sep=',')"
   ]
  },
  {
   "cell_type": "code",
   "execution_count": 6,
   "metadata": {},
   "outputs": [
    {
     "data": {
      "text/html": [
       "<div>\n",
       "<style scoped>\n",
       "    .dataframe tbody tr th:only-of-type {\n",
       "        vertical-align: middle;\n",
       "    }\n",
       "\n",
       "    .dataframe tbody tr th {\n",
       "        vertical-align: top;\n",
       "    }\n",
       "\n",
       "    .dataframe thead th {\n",
       "        text-align: right;\n",
       "    }\n",
       "</style>\n",
       "<table border=\"1\" class=\"dataframe\">\n",
       "  <thead>\n",
       "    <tr style=\"text-align: right;\">\n",
       "      <th></th>\n",
       "      <th>date</th>\n",
       "      <th>game_id</th>\n",
       "      <th>time_control</th>\n",
       "      <th>clocks_list</th>\n",
       "      <th>move_count</th>\n",
       "      <th>user_id</th>\n",
       "      <th>move_score</th>\n",
       "    </tr>\n",
       "  </thead>\n",
       "  <tbody>\n",
       "    <tr>\n",
       "      <th>0</th>\n",
       "      <td>2023-04-13</td>\n",
       "      <td>5qJUO8Wt</td>\n",
       "      <td>30+0</td>\n",
       "      <td>[1.6, 23.2, 12.64, 19.44, 26.56, 14.72, 15.76,...</td>\n",
       "      <td>70</td>\n",
       "      <td>hipopotamus125</td>\n",
       "      <td>[36, 24, -22, -24, -29, -21, -32, -18, -59, -6...</td>\n",
       "    </tr>\n",
       "    <tr>\n",
       "      <th>1</th>\n",
       "      <td>2023-04-09</td>\n",
       "      <td>lG9EARkI</td>\n",
       "      <td>30+0</td>\n",
       "      <td>[77.84, 2.48, 5.92, 10.08, 5.36, 2.64, 3.76, 4...</td>\n",
       "      <td>39</td>\n",
       "      <td>hipopotamus125</td>\n",
       "      <td>[0, 29, 0, 0, 0, 17, 17, 0, -7, 0, -22, -17, -...</td>\n",
       "    </tr>\n",
       "    <tr>\n",
       "      <th>2</th>\n",
       "      <td>2023-04-04</td>\n",
       "      <td>KSSbE0Je</td>\n",
       "      <td>30+0</td>\n",
       "      <td>[3.6, 3.28, 3.04, 21.12, 6.88, 1.28, 1.44, 3.4...</td>\n",
       "      <td>44</td>\n",
       "      <td>hipopotamus125</td>\n",
       "      <td>[0, 29, 39, 16, 35, 6, -59, -61, -59, -55, -29...</td>\n",
       "    </tr>\n",
       "    <tr>\n",
       "      <th>3</th>\n",
       "      <td>2023-04-03</td>\n",
       "      <td>OS0Ztktl</td>\n",
       "      <td>30+0</td>\n",
       "      <td>[2.88, 2.32, 2.0, 3.2, 2.48, 9.2, 8.88, 6.08, ...</td>\n",
       "      <td>30</td>\n",
       "      <td>hipopotamus125</td>\n",
       "      <td>[36, 29, 34, 31, 29, 39, 36, 31, 40, 42, 30, 4...</td>\n",
       "    </tr>\n",
       "    <tr>\n",
       "      <th>4</th>\n",
       "      <td>2023-03-30</td>\n",
       "      <td>it48y7zK</td>\n",
       "      <td>30+0</td>\n",
       "      <td>[1.68, 1.52, 1.6, 1.12, 0.96, 0.56, 26.48, 29....</td>\n",
       "      <td>43</td>\n",
       "      <td>hipopotamus125</td>\n",
       "      <td>[36, 30, 0, 30, 0, 0, 0, 0, 60, 95, 100, 121, ...</td>\n",
       "    </tr>\n",
       "  </tbody>\n",
       "</table>\n",
       "</div>"
      ],
      "text/plain": [
       "         date   game_id time_control  \\\n",
       "0  2023-04-13  5qJUO8Wt         30+0   \n",
       "1  2023-04-09  lG9EARkI         30+0   \n",
       "2  2023-04-04  KSSbE0Je         30+0   \n",
       "3  2023-04-03  OS0Ztktl         30+0   \n",
       "4  2023-03-30  it48y7zK         30+0   \n",
       "\n",
       "                                         clocks_list  move_count  \\\n",
       "0  [1.6, 23.2, 12.64, 19.44, 26.56, 14.72, 15.76,...          70   \n",
       "1  [77.84, 2.48, 5.92, 10.08, 5.36, 2.64, 3.76, 4...          39   \n",
       "2  [3.6, 3.28, 3.04, 21.12, 6.88, 1.28, 1.44, 3.4...          44   \n",
       "3  [2.88, 2.32, 2.0, 3.2, 2.48, 9.2, 8.88, 6.08, ...          30   \n",
       "4  [1.68, 1.52, 1.6, 1.12, 0.96, 0.56, 26.48, 29....          43   \n",
       "\n",
       "          user_id                                         move_score  \n",
       "0  hipopotamus125  [36, 24, -22, -24, -29, -21, -32, -18, -59, -6...  \n",
       "1  hipopotamus125  [0, 29, 0, 0, 0, 17, 17, 0, -7, 0, -22, -17, -...  \n",
       "2  hipopotamus125  [0, 29, 39, 16, 35, 6, -59, -61, -59, -55, -29...  \n",
       "3  hipopotamus125  [36, 29, 34, 31, 29, 39, 36, 31, 40, 42, 30, 4...  \n",
       "4  hipopotamus125  [36, 30, 0, 30, 0, 0, 0, 0, 60, 95, 100, 121, ...  "
      ]
     },
     "execution_count": 6,
     "metadata": {},
     "output_type": "execute_result"
    }
   ],
   "source": [
    "df_for_test_group.head()"
   ]
  },
  {
   "cell_type": "code",
   "execution_count": 7,
   "metadata": {},
   "outputs": [],
   "source": [
    "df_for_test_group['clocks_list_new'] = \\\n",
    "    [ast.literal_eval(i) for i in df_for_test_group['clocks_list']]\n",
    "df_for_test_group['move_score_new'] = \\\n",
    "    [ast.literal_eval(i) for i in df_for_test_group['move_score']]"
   ]
  },
  {
   "cell_type": "code",
   "execution_count": 8,
   "metadata": {},
   "outputs": [],
   "source": [
    "test_group = df_for_test_group['clocks_list_new'].explode('clocks_list_new')"
   ]
  },
  {
   "cell_type": "code",
   "execution_count": 9,
   "metadata": {},
   "outputs": [
    {
     "data": {
      "image/png": "[encoded data removed]",
      "text/plain": [
       "<Figure size 640x480 with 1 Axes>"
      ]
     },
     "metadata": {},
     "output_type": "display_data"
    }
   ],
   "source": [
    "message_to_send.create_plot_eval_cloks(number_game=1)"
   ]
  },
  {
   "cell_type": "code",
   "execution_count": 10,
   "metadata": {},
   "outputs": [],
   "source": [
    "number_game = 7\n",
    "def create_plot_eval_cloks(self, number_game):\n",
    "    len_move = len(df['move_score_new'][number_game])\n",
    "    max_score = max(df['move_score_new'][number_game])\n",
    "    plt.bar(range(len_move), df['clocks_list_new'][number_game],\n",
    "        color='blue',\n",
    "        width=0.9,\n",
    "        bottom=1,\n",
    "        alpha=0.5)\n",
    "\n",
    "    plt.bar(range(len_move), df['move_score_new'][number_game],\n",
    "        color='orange',\n",
    "        width=0.9,\n",
    "        bottom=1,\n",
    "        alpha=0.5)\n",
    "    plt.legend(['value cloks', 'value move'])\n",
    "    plt.xticks(np.arange(0,len_move,5))\n",
    "    plt.yticks(np.arange(0,max_score,100))\n",
    "    plt.ylabel('value')\n",
    "    plt.xlabel('ordinal move')\n",
    "    plt.title('Chess Game Scores')\n",
    "    plt.savefig('sample_plot.png')"
   ]
  },
  {
   "cell_type": "code",
   "execution_count": 11,
   "metadata": {},
   "outputs": [],
   "source": [
    "df_for_control_group = pd.read_csv('./merge_eval_and_clocks_for_control_group.csv', sep=',')"
   ]
  },
  {
   "cell_type": "code",
   "execution_count": 12,
   "metadata": {},
   "outputs": [
    {
     "name": "stdout",
     "output_type": "stream",
     "text": [
      "<class 'pandas.core.frame.DataFrame'>\n",
      "RangeIndex: 211 entries, 0 to 210\n",
      "Data columns (total 7 columns):\n",
      " #   Column        Non-Null Count  Dtype \n",
      "---  ------        --------------  ----- \n",
      " 0   date          211 non-null    object\n",
      " 1   game_id       211 non-null    object\n",
      " 2   time_control  211 non-null    object\n",
      " 3   clocks_list   211 non-null    object\n",
      " 4   move_count    211 non-null    int64 \n",
      " 5   user_id       211 non-null    object\n",
      " 6   move_score    211 non-null    object\n",
      "dtypes: int64(1), object(6)\n",
      "memory usage: 11.7+ KB\n"
     ]
    }
   ],
   "source": [
    "df_for_control_group.info()"
   ]
  },
  {
   "cell_type": "code",
   "execution_count": 13,
   "metadata": {},
   "outputs": [
    {
     "data": {
      "text/html": [
       "<div>\n",
       "<style scoped>\n",
       "    .dataframe tbody tr th:only-of-type {\n",
       "        vertical-align: middle;\n",
       "    }\n",
       "\n",
       "    .dataframe tbody tr th {\n",
       "        vertical-align: top;\n",
       "    }\n",
       "\n",
       "    .dataframe thead th {\n",
       "        text-align: right;\n",
       "    }\n",
       "</style>\n",
       "<table border=\"1\" class=\"dataframe\">\n",
       "  <thead>\n",
       "    <tr style=\"text-align: right;\">\n",
       "      <th></th>\n",
       "      <th>date</th>\n",
       "      <th>game_id</th>\n",
       "      <th>time_control</th>\n",
       "      <th>clocks_list</th>\n",
       "      <th>move_count</th>\n",
       "      <th>user_id</th>\n",
       "      <th>move_score</th>\n",
       "    </tr>\n",
       "  </thead>\n",
       "  <tbody>\n",
       "    <tr>\n",
       "      <th>0</th>\n",
       "      <td>2023-04-07</td>\n",
       "      <td>1EFJ8rOF</td>\n",
       "      <td>20+10</td>\n",
       "      <td>[1.92, 3.68, 0.72, 0.56, 0.88, 5.84, 0.64, 3.8...</td>\n",
       "      <td>28</td>\n",
       "      <td>tsilboy</td>\n",
       "      <td>[0, 16, 5, 0, 0, 0, 0, 3, -1, 80, 70, 2, -29, ...</td>\n",
       "    </tr>\n",
       "    <tr>\n",
       "      <th>1</th>\n",
       "      <td>2023-04-07</td>\n",
       "      <td>7T4uKdHI</td>\n",
       "      <td>20+10</td>\n",
       "      <td>[4.4, 8.4, 8.72, 2.56, 1.36, 1.28, 1.68, 2.16,...</td>\n",
       "      <td>49</td>\n",
       "      <td>tsilboy</td>\n",
       "      <td>[0, 5, -1, -52, 35, 44, 8, 20, -2, 12, -26, -2...</td>\n",
       "    </tr>\n",
       "    <tr>\n",
       "      <th>2</th>\n",
       "      <td>2023-04-02</td>\n",
       "      <td>qBpEMUqo</td>\n",
       "      <td>30+0</td>\n",
       "      <td>[2.32, 1.12, 2.0, 1.2, 4.32, 21.36, 325.92, 14...</td>\n",
       "      <td>86</td>\n",
       "      <td>tsilboy</td>\n",
       "      <td>[36, 41, 0, 19, 11, 0, 168, 244, 211, 274, 88,...</td>\n",
       "    </tr>\n",
       "    <tr>\n",
       "      <th>3</th>\n",
       "      <td>2023-03-19</td>\n",
       "      <td>ZA4TqEPn</td>\n",
       "      <td>30+0</td>\n",
       "      <td>[2.0, 2.4, 3.92, 2.24, 2.56, 6.48, 4.32, 10.8,...</td>\n",
       "      <td>72</td>\n",
       "      <td>tsilboy</td>\n",
       "      <td>[0, 29, 0, 20, 17, 22, 52, 39, 52, 54, 124, 11...</td>\n",
       "    </tr>\n",
       "    <tr>\n",
       "      <th>4</th>\n",
       "      <td>2023-03-03</td>\n",
       "      <td>dUouTFlV</td>\n",
       "      <td>30+0</td>\n",
       "      <td>[7.68, 1.84, 2.0, 1.76, 13.12, 2.32, 1.68, 2.0...</td>\n",
       "      <td>27</td>\n",
       "      <td>tsilboy</td>\n",
       "      <td>[0, 0, 18, 39, 26, 59, 119, 107, 75, 34, 250, ...</td>\n",
       "    </tr>\n",
       "  </tbody>\n",
       "</table>\n",
       "</div>"
      ],
      "text/plain": [
       "         date   game_id time_control  \\\n",
       "0  2023-04-07  1EFJ8rOF        20+10   \n",
       "1  2023-04-07  7T4uKdHI        20+10   \n",
       "2  2023-04-02  qBpEMUqo         30+0   \n",
       "3  2023-03-19  ZA4TqEPn         30+0   \n",
       "4  2023-03-03  dUouTFlV         30+0   \n",
       "\n",
       "                                         clocks_list  move_count  user_id  \\\n",
       "0  [1.92, 3.68, 0.72, 0.56, 0.88, 5.84, 0.64, 3.8...          28  tsilboy   \n",
       "1  [4.4, 8.4, 8.72, 2.56, 1.36, 1.28, 1.68, 2.16,...          49  tsilboy   \n",
       "2  [2.32, 1.12, 2.0, 1.2, 4.32, 21.36, 325.92, 14...          86  tsilboy   \n",
       "3  [2.0, 2.4, 3.92, 2.24, 2.56, 6.48, 4.32, 10.8,...          72  tsilboy   \n",
       "4  [7.68, 1.84, 2.0, 1.76, 13.12, 2.32, 1.68, 2.0...          27  tsilboy   \n",
       "\n",
       "                                          move_score  \n",
       "0  [0, 16, 5, 0, 0, 0, 0, 3, -1, 80, 70, 2, -29, ...  \n",
       "1  [0, 5, -1, -52, 35, 44, 8, 20, -2, 12, -26, -2...  \n",
       "2  [36, 41, 0, 19, 11, 0, 168, 244, 211, 274, 88,...  \n",
       "3  [0, 29, 0, 20, 17, 22, 52, 39, 52, 54, 124, 11...  \n",
       "4  [0, 0, 18, 39, 26, 59, 119, 107, 75, 34, 250, ...  "
      ]
     },
     "execution_count": 13,
     "metadata": {},
     "output_type": "execute_result"
    }
   ],
   "source": [
    "df_for_control_group.head()"
   ]
  },
  {
   "cell_type": "code",
   "execution_count": 14,
   "metadata": {},
   "outputs": [],
   "source": [
    "df_for_control_group['clocks_list_new'] = \\\n",
    "    [ast.literal_eval(i) for i in df_for_control_group['clocks_list']]"
   ]
  },
  {
   "cell_type": "code",
   "execution_count": 15,
   "metadata": {},
   "outputs": [],
   "source": [
    "control_group = df_for_control_group['clocks_list_new'].explode('clocks_list_new')"
   ]
  },
  {
   "cell_type": "code",
   "execution_count": 16,
   "metadata": {},
   "outputs": [],
   "source": [
    "all_count = round(control_group.count())\n",
    "all_mean = control_group.mean()\n",
    "all_std = control_group.std()\n",
    "sample_mean_distribution = \\\n",
    "    pd.Series([np.random.normal(all_mean, all_std, size=all_count).mean() for i in range(1000)])"
   ]
  },
  {
   "cell_type": "code",
   "execution_count": 17,
   "metadata": {},
   "outputs": [
    {
     "data": {
      "text/plain": [
       "<Axes: >"
      ]
     },
     "execution_count": 17,
     "metadata": {},
     "output_type": "execute_result"
    },
    {
     "data": {
      "image/png": "[encoded data removed]",
      "text/plain": [
       "<Figure size 640x480 with 1 Axes>"
      ]
     },
     "metadata": {},
     "output_type": "display_data"
    }
   ],
   "source": [
    "sample_mean_distribution.hist()"
   ]
  },
  {
   "cell_type": "code",
   "execution_count": 18,
   "metadata": {},
   "outputs": [
    {
     "data": {
      "image/png": "[encoded data removed]",
      "text/plain": [
       "<Figure size 640x480 with 1 Axes>"
      ]
     },
     "metadata": {},
     "output_type": "display_data"
    }
   ],
   "source": [
    "st.probplot(sample_mean_distribution, dist=\"norm\", plot=pylab)\n",
    "pylab.show()"
   ]
  },
  {
   "cell_type": "code",
   "execution_count": 19,
   "metadata": {},
   "outputs": [
    {
     "data": {
      "text/plain": [
       "0.8332953292312156"
      ]
     },
     "execution_count": 19,
     "metadata": {},
     "output_type": "execute_result"
    }
   ],
   "source": [
    "stat, p = levene(control_group, test_group, center='median')\n",
    "p"
   ]
  },
  {
   "cell_type": "code",
   "execution_count": 20,
   "metadata": {},
   "outputs": [
    {
     "name": "stderr",
     "output_type": "stream",
     "text": [
      "100%|██████████| 10000/10000 [00:09<00:00, 1045.10it/s]\n"
     ]
    }
   ],
   "source": [
    "baseline = control_group.mean()\n",
    "mde = test_group.mean() - control_group.mean()\n",
    "std_a = control_group.std()\n",
    "std_b = test_group.std()\n",
    "sample_size_a = len(control_group)\n",
    "sample_size_b = len(test_group)\n",
    "result = []\n",
    "n = 10000\n",
    "for _ in tqdm(range(n)):\n",
    "  a = np.random.normal(baseline, std_a, size=sample_size_a)\n",
    "  b = np.random.normal(baseline + mde, std_b, size=sample_size_b)\n",
    "  _, pval = ttest_ind(a, b, equal_var=False)\n",
    "  result.append(pval)"
   ]
  },
  {
   "cell_type": "code",
   "execution_count": 21,
   "metadata": {},
   "outputs": [
    {
     "data": {
      "text/plain": [
       "0.061"
      ]
     },
     "execution_count": 21,
     "metadata": {},
     "output_type": "execute_result"
    }
   ],
   "source": [
    "t = pd.Series(result)\n",
    "(t < 0.05).mean()"
   ]
  },
  {
   "cell_type": "code",
   "execution_count": 22,
   "metadata": {},
   "outputs": [],
   "source": [
    "all_data = pd.concat([test_group, control_group], ignore_index=True)"
   ]
  },
  {
   "cell_type": "code",
   "execution_count": 23,
   "metadata": {},
   "outputs": [],
   "source": [
    "mean_a = test_group.mean()\n",
    "mean_b = control_group.mean()\n",
    "es = (mean_b - mean_a)/ all_data.std()"
   ]
  },
  {
   "cell_type": "code",
   "execution_count": 24,
   "metadata": {},
   "outputs": [
    {
     "data": {
      "text/plain": [
       "94654.77306351387"
      ]
     },
     "execution_count": 24,
     "metadata": {},
     "output_type": "execute_result"
    }
   ],
   "source": [
    "sms.TTestIndPower().solve_power(es, power=0.80, alpha=0.05, ratio=9/1)"
   ]
  },
  {
   "cell_type": "code",
   "execution_count": 93,
   "metadata": {},
   "outputs": [
    {
     "name": "stdout",
     "output_type": "stream",
     "text": [
      "54\n"
     ]
    }
   ],
   "source": [
    "print(len(df_for_test_group['clocks_list_new'][26]))"
   ]
  },
  {
   "cell_type": "code",
   "execution_count": 105,
   "metadata": {},
   "outputs": [
    {
     "data": {
      "text/plain": [
       "1489.82"
      ]
     },
     "execution_count": 105,
     "metadata": {},
     "output_type": "execute_result"
    }
   ],
   "source": [
    "df_for_test_group['clocks_list_new'][26][-1]"
   ]
  },
  {
   "cell_type": "code",
   "execution_count": 94,
   "metadata": {},
   "outputs": [
    {
     "name": "stdout",
     "output_type": "stream",
     "text": [
      "54\n"
     ]
    }
   ],
   "source": [
    "print(len(df_for_test_group['move_score_new'][26]))"
   ]
  },
  {
   "cell_type": "code",
   "execution_count": 104,
   "metadata": {},
   "outputs": [
    {
     "data": {
      "text/plain": [
       "-921"
      ]
     },
     "execution_count": 104,
     "metadata": {},
     "output_type": "execute_result"
    }
   ],
   "source": [
    "df_for_test_group['move_score_new'][26][-1]"
   ]
  },
  {
   "cell_type": "code",
   "execution_count": 97,
   "metadata": {},
   "outputs": [],
   "source": [
    "d = {'clocks_list': df_for_test_group['clocks_list_new'][26], 'move_score': df_for_test_group['move_score_new'][26]}\n",
    "df = pd.DataFrame(data=d)"
   ]
  },
  {
   "cell_type": "code",
   "execution_count": 106,
   "metadata": {},
   "outputs": [
    {
     "name": "stdout",
     "output_type": "stream",
     "text": [
      "    clocks_list  move_score\n",
      "0          0.56          21\n",
      "1          1.12           0\n",
      "2          1.44           9\n",
      "3         25.84           0\n",
      "4         11.12          35\n",
      "5          2.80          39\n",
      "6          5.12          29\n",
      "7          2.24          23\n",
      "8         13.68          37\n",
      "9         14.88          46\n",
      "10         5.60          71\n",
      "11         2.08          12\n",
      "12         6.56          58\n",
      "13         4.16          28\n",
      "14         2.00         154\n",
      "15         4.00         148\n",
      "16        20.72          30\n",
      "17         9.28          16\n",
      "18         1.60         -20\n",
      "19         2.72         -14\n",
      "20         4.48           0\n",
      "21         8.08           8\n",
      "22         2.96           0\n",
      "23         4.56         -53\n",
      "24         2.24           0\n",
      "25        14.64         -71\n",
      "26         2.72        -108\n",
      "27         1.20         -93\n",
      "28         1.12        -159\n",
      "29         3.84        -214\n",
      "30         1.92        -253\n",
      "31         1.28        -299\n",
      "32         2.16        -277\n",
      "33         4.32        -288\n",
      "34         8.56        -292\n",
      "35         8.48        -297\n",
      "36         1.52        -315\n",
      "37         6.16        -325\n",
      "38         9.60        -330\n",
      "39         5.36        -342\n",
      "40         1.84        -377\n",
      "41         0.96        -415\n",
      "42         3.36        -441\n",
      "43        15.68        -527\n",
      "44         2.32        -566\n",
      "45         8.80        -646\n",
      "46         5.44        -704\n",
      "47         5.52        -766\n",
      "48        11.52        -801\n",
      "49         3.52        -897\n",
      "50         9.36        -893\n",
      "51         4.16        -842\n",
      "52         5.01        -921\n",
      "53      1489.82        -921\n"
     ]
    }
   ],
   "source": [
    "t = df[['clocks_list', 'move_score']]\n",
    "print(t)"
   ]
  },
  {
   "cell_type": "code",
   "execution_count": 99,
   "metadata": {},
   "outputs": [
    {
     "name": "stdout",
     "output_type": "stream",
     "text": [
      "interval columns not set, guessing: ['clocks_list', 'move_score']\n"
     ]
    }
   ],
   "source": [
    "phik_overview = t.phik_matrix()"
   ]
  },
  {
   "cell_type": "code",
   "execution_count": 100,
   "metadata": {},
   "outputs": [
    {
     "data": {
      "text/plain": [
       "<Axes: >"
      ]
     },
     "execution_count": 100,
     "metadata": {},
     "output_type": "execute_result"
    },
    {
     "data": {
      "image/png": "[encoded data removed]",
      "text/plain": [
       "<Figure size 500x400 with 2 Axes>"
      ]
     },
     "metadata": {},
     "output_type": "display_data"
    }
   ],
   "source": [
    "plt.figure(figsize = (5,4))\n",
    "sns.heatmap(phik_overview)"
   ]
  },
  {
   "cell_type": "code",
   "execution_count": 112,
   "metadata": {},
   "outputs": [
    {
     "name": "stdout",
     "output_type": "stream",
     "text": [
      "<class 'numpy.float64'>\n"
     ]
    }
   ],
   "source": [
    "correlation_coefficient = phik_overview['clocks_list'][0]\n",
    "print(type(correlation_coefficient))"
   ]
  },
  {
   "cell_type": "code",
   "execution_count": 79,
   "metadata": {},
   "outputs": [
    {
     "data": {
      "text/plain": [
       "213.29"
      ]
     },
     "execution_count": 79,
     "metadata": {},
     "output_type": "execute_result"
    }
   ],
   "source": [
    "df_for_test_group['clocks_list_new'][1][-1]"
   ]
  },
  {
   "cell_type": "code",
   "execution_count": 113,
   "metadata": {},
   "outputs": [],
   "source": [
    "def add_correlation_coefficient(\n",
    "    df_for_satatistical_test: pd.DataFrame) -> pd.Series:\n",
    "\n",
    "    len_df = df_for_satatistical_test.shape[0]\n",
    "    list_df_len = list(range(0,len_df,1))\n",
    "    correlation_list = []\n",
    "\n",
    "    for i in list_df_len:\n",
    "        len_clocks = len(df_for_satatistical_test['clocks_list_new'][i])\n",
    "        len_score = len(df_for_satatistical_test['move_score_new'][i])\n",
    "        if len_clocks != len_score:\n",
    "            if len_clocks < len_score:\n",
    "                df_for_satatistical_test['clocks_list_new'][i] \\\n",
    "                    .append(df_for_satatistical_test['clocks_list_new'][i][-1])\n",
    "            else:\n",
    "                df_for_satatistical_test['move_score_new'][i] \\\n",
    "                    .append(df_for_satatistical_test['move_score_new'][i][-1])\n",
    "        else:\n",
    "            d = {\n",
    "                'clocks_list': df_for_satatistical_test['clocks_list_new'][i],\n",
    "                'move_score': df_for_satatistical_test['move_score_new'][i]}\n",
    "            df = pd.DataFrame(data=d)\n",
    "            t = df[['clocks_list', 'move_score']]\n",
    "            phik_overview = t.phik_matrix()\n",
    "            correlation_coefficient = phik_overview['clocks_list'][1]\n",
    "            correlation_list.append(correlation_coefficient)\n",
    "    result = pd.Series(correlation_list)\n",
    "    return result"
   ]
  },
  {
   "cell_type": "code",
   "execution_count": 117,
   "metadata": {},
   "outputs": [
    {
     "name": "stdout",
     "output_type": "stream",
     "text": [
      "interval columns not set, guessing: ['clocks_list', 'move_score']\n",
      "interval columns not set, guessing: ['clocks_list', 'move_score']\n",
      "interval columns not set, guessing: ['clocks_list', 'move_score']\n",
      "interval columns not set, guessing: ['clocks_list', 'move_score']\n",
      "interval columns not set, guessing: ['clocks_list', 'move_score']\n",
      "interval columns not set, guessing: ['clocks_list', 'move_score']\n",
      "interval columns not set, guessing: ['clocks_list', 'move_score']\n",
      "interval columns not set, guessing: ['clocks_list', 'move_score']\n",
      "interval columns not set, guessing: ['clocks_list', 'move_score']\n",
      "interval columns not set, guessing: ['clocks_list', 'move_score']\n",
      "interval columns not set, guessing: ['clocks_list', 'move_score']\n",
      "interval columns not set, guessing: ['clocks_list', 'move_score']\n",
      "interval columns not set, guessing: ['clocks_list', 'move_score']\n",
      "interval columns not set, guessing: ['clocks_list', 'move_score']\n",
      "interval columns not set, guessing: ['clocks_list', 'move_score']\n",
      "interval columns not set, guessing: ['clocks_list', 'move_score']\n",
      "interval columns not set, guessing: ['clocks_list', 'move_score']\n",
      "interval columns not set, guessing: ['clocks_list', 'move_score']\n",
      "interval columns not set, guessing: ['clocks_list', 'move_score']\n",
      "interval columns not set, guessing: ['clocks_list', 'move_score']\n",
      "interval columns not set, guessing: ['clocks_list', 'move_score']\n",
      "interval columns not set, guessing: ['clocks_list', 'move_score']\n",
      "interval columns not set, guessing: ['clocks_list', 'move_score']\n",
      "interval columns not set, guessing: ['clocks_list', 'move_score']\n",
      "interval columns not set, guessing: ['clocks_list', 'move_score']\n",
      "interval columns not set, guessing: ['clocks_list', 'move_score']\n",
      "interval columns not set, guessing: ['clocks_list', 'move_score']\n"
     ]
    }
   ],
   "source": [
    "rd = add_correlation_coefficient(df_for_test_group)\n",
    "df_for_test_group['correlation_coefficient'] = rd"
   ]
  }
 ],
 "metadata": {
  "kernelspec": {
   "display_name": "Python 3",
   "language": "python",
   "name": "python3"
  },
  "language_info": {
   "codemirror_mode": {
    "name": "ipython",
    "version": 3
   },
   "file_extension": ".py",
   "mimetype": "text/x-python",
   "name": "python",
   "nbconvert_exporter": "python",
   "pygments_lexer": "ipython3",
   "version": "3.11.1"
  },
  "orig_nbformat": 4
 },
 "nbformat": 4,
 "nbformat_minor": 2
}

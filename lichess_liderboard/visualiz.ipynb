{
 "cells": [
  {
   "cell_type": "code",
   "execution_count": 1,
   "metadata": {},
   "outputs": [
    {
     "name": "stderr",
     "output_type": "stream",
     "text": [
      "c:\\Program Files\\Python311\\Lib\\site-packages\\tqdm\\auto.py:21: TqdmWarning: IProgress not found. Please update jupyter and ipywidgets. See https://ipywidgets.readthedocs.io/en/stable/user_install.html\n",
      "  from .autonotebook import tqdm as notebook_tqdm\n"
     ]
    }
   ],
   "source": [
    "import json\n",
    "import ast\n",
    "\n",
    "import pandas as pd\n",
    "from datetime import datetime, timedelta\n",
    "import numpy as np\n",
    "import seaborn as sns\n",
    "import matplotlib.pyplot as plt\n",
    "from scipy.stats import ttest_ind\n",
    "from tqdm.auto import tqdm\n",
    "from scipy.stats import levene\n",
    "import scipy.stats as st\n",
    "import pylab\n",
    "import statsmodels.stats.api as sms\n",
    "import phik\n",
    "\n",
    "import my_hypotheses as hyp\n",
    "import LichessAnalys as li\n",
    "import my_message as ms"
   ]
  },
  {
   "cell_type": "code",
   "execution_count": 2,
   "metadata": {},
   "outputs": [],
   "source": [
    "lichessAnalys = li.LichessAnalys()\n",
    "hypotheses = hyp.ProgressivePlayerCanBeACheater()\n",
    "message_to_send = ms.MessageToSend()"
   ]
  },
  {
   "cell_type": "code",
   "execution_count": 3,
   "metadata": {},
   "outputs": [],
   "source": [
    "df_for_test_group = pd.read_csv('./move_score_and_clocks.csv', sep=',')"
   ]
  },
  {
   "cell_type": "code",
   "execution_count": 4,
   "metadata": {},
   "outputs": [
    {
     "data": {
      "text/html": [
       "<div>\n",
       "<style scoped>\n",
       "    .dataframe tbody tr th:only-of-type {\n",
       "        vertical-align: middle;\n",
       "    }\n",
       "\n",
       "    .dataframe tbody tr th {\n",
       "        vertical-align: top;\n",
       "    }\n",
       "\n",
       "    .dataframe thead th {\n",
       "        text-align: right;\n",
       "    }\n",
       "</style>\n",
       "<table border=\"1\" class=\"dataframe\">\n",
       "  <thead>\n",
       "    <tr style=\"text-align: right;\">\n",
       "      <th></th>\n",
       "      <th>date</th>\n",
       "      <th>game_id</th>\n",
       "      <th>time_control</th>\n",
       "      <th>clocks_list</th>\n",
       "      <th>move_count</th>\n",
       "      <th>user_id</th>\n",
       "      <th>move_score</th>\n",
       "    </tr>\n",
       "  </thead>\n",
       "  <tbody>\n",
       "    <tr>\n",
       "      <th>0</th>\n",
       "      <td>2023-04-30</td>\n",
       "      <td>rgMLuvfQ</td>\n",
       "      <td>30+0</td>\n",
       "      <td>[14.32, 2.48, 6.88, 3.52, 21.68, 4.56, 12.72, ...</td>\n",
       "      <td>47</td>\n",
       "      <td>alexboy14</td>\n",
       "      <td>[0, 12, 16, 0, 0, 0, 0, -14, -1, 85, 53, 50, 4...</td>\n",
       "    </tr>\n",
       "    <tr>\n",
       "      <th>1</th>\n",
       "      <td>2023-04-11</td>\n",
       "      <td>joT2BtwS</td>\n",
       "      <td>30+0</td>\n",
       "      <td>[2.16, 2.56, 4.16, 3.36, 4.0, 9.36, 4.16, 16.3...</td>\n",
       "      <td>36</td>\n",
       "      <td>alexboy14</td>\n",
       "      <td>[0, 28, 16, 0, 15, 31, 65, 60, 53, 59, 49, 61,...</td>\n",
       "    </tr>\n",
       "    <tr>\n",
       "      <th>2</th>\n",
       "      <td>2023-04-09</td>\n",
       "      <td>77XWe6bN</td>\n",
       "      <td>30+0</td>\n",
       "      <td>[2.32, 1.6, 0.0, 0.0, 0.72, 0.88, 0.88, 0.88, ...</td>\n",
       "      <td>26</td>\n",
       "      <td>alexboy14</td>\n",
       "      <td>[36, 0, 25, 27, 21, 46, 50, 51, 45, 42, 46, 39...</td>\n",
       "    </tr>\n",
       "    <tr>\n",
       "      <th>3</th>\n",
       "      <td>2023-04-05</td>\n",
       "      <td>nUbvmfgK</td>\n",
       "      <td>30+0</td>\n",
       "      <td>[1.68, 1.52, 3.76, 9.12, 3.52, 1.68, 2.16, 16....</td>\n",
       "      <td>50</td>\n",
       "      <td>alexboy14</td>\n",
       "      <td>[0, 29, 39, 0, 31, 45, 62, 56, 53, 68, 53, 21,...</td>\n",
       "    </tr>\n",
       "    <tr>\n",
       "      <th>4</th>\n",
       "      <td>2023-04-03</td>\n",
       "      <td>tCPNyQdR</td>\n",
       "      <td>30+0</td>\n",
       "      <td>[6.24, 3.44, 7.04, 1.52, 4.96, 13.92, 18.64, 5...</td>\n",
       "      <td>37</td>\n",
       "      <td>alexboy14</td>\n",
       "      <td>[0, 16, 31, 24, 70, 50, -30, -19, -33, -72, -5...</td>\n",
       "    </tr>\n",
       "  </tbody>\n",
       "</table>\n",
       "</div>"
      ],
      "text/plain": [
       "         date   game_id time_control  \\\n",
       "0  2023-04-30  rgMLuvfQ         30+0   \n",
       "1  2023-04-11  joT2BtwS         30+0   \n",
       "2  2023-04-09  77XWe6bN         30+0   \n",
       "3  2023-04-05  nUbvmfgK         30+0   \n",
       "4  2023-04-03  tCPNyQdR         30+0   \n",
       "\n",
       "                                         clocks_list  move_count    user_id  \\\n",
       "0  [14.32, 2.48, 6.88, 3.52, 21.68, 4.56, 12.72, ...          47  alexboy14   \n",
       "1  [2.16, 2.56, 4.16, 3.36, 4.0, 9.36, 4.16, 16.3...          36  alexboy14   \n",
       "2  [2.32, 1.6, 0.0, 0.0, 0.72, 0.88, 0.88, 0.88, ...          26  alexboy14   \n",
       "3  [1.68, 1.52, 3.76, 9.12, 3.52, 1.68, 2.16, 16....          50  alexboy14   \n",
       "4  [6.24, 3.44, 7.04, 1.52, 4.96, 13.92, 18.64, 5...          37  alexboy14   \n",
       "\n",
       "                                          move_score  \n",
       "0  [0, 12, 16, 0, 0, 0, 0, -14, -1, 85, 53, 50, 4...  \n",
       "1  [0, 28, 16, 0, 15, 31, 65, 60, 53, 59, 49, 61,...  \n",
       "2  [36, 0, 25, 27, 21, 46, 50, 51, 45, 42, 46, 39...  \n",
       "3  [0, 29, 39, 0, 31, 45, 62, 56, 53, 68, 53, 21,...  \n",
       "4  [0, 16, 31, 24, 70, 50, -30, -19, -33, -72, -5...  "
      ]
     },
     "execution_count": 4,
     "metadata": {},
     "output_type": "execute_result"
    }
   ],
   "source": [
    "df_for_test_group.head()"
   ]
  },
  {
   "cell_type": "code",
   "execution_count": 5,
   "metadata": {},
   "outputs": [
    {
     "data": {
      "text/plain": [
       "'[14.32, 2.48, 6.88, 3.52, 21.68, 4.56, 12.72, 101.04, 1.92, 9.36, 9.92, 5.92, 51.52, 8.16, 6.48, 5.52, 2.64, 29.28, 29.76, 5.12, 238.96, 88.8, 258.56, 0.96, 5.04, 68.32, 24.64, 2.64, 128.08, 1.2, 15.28, 135.28, 9.12, 20.16, 18.8, 2.48, 1.6, 92.72, 7.68, 3.52, 1.68, 4.32, 1.44, 0.32, 1.76, 5.0, 328.87]'"
      ]
     },
     "execution_count": 5,
     "metadata": {},
     "output_type": "execute_result"
    }
   ],
   "source": [
    "df_for_test_group['clocks_list'][0]"
   ]
  },
  {
   "cell_type": "code",
   "execution_count": 32,
   "metadata": {},
   "outputs": [
    {
     "ename": "SyntaxError",
     "evalue": "invalid syntax (131319440.py, line 4)",
     "output_type": "error",
     "traceback": [
      "\u001b[1;36m  Cell \u001b[1;32mIn[32], line 4\u001b[1;36m\u001b[0m\n\u001b[1;33m    \u001b[0m\n\u001b[1;37m    ^\u001b[0m\n\u001b[1;31mSyntaxError\u001b[0m\u001b[1;31m:\u001b[0m invalid syntax\n"
     ]
    }
   ],
   "source": [
    "df_for_test_group['clocks_list_new'] = \\\n",
    "    [ast.literal_eval(i) for i in df_for_test_group['clocks_list']]\n",
    "df_for_test_group['move_score_new'] = \\\n",
    "\n",
    "    [ast.literal_eval(i) for i in df_for_test_group['move_score']]"
   ]
  },
  {
   "cell_type": "code",
   "execution_count": 21,
   "metadata": {},
   "outputs": [],
   "source": [
    "test_group = df_for_test_group['clocks_list_new'][0]\n",
    "# test_group = df_for_test_group['clocks_list_new'].explode('clocks_list_new')"
   ]
  },
  {
   "cell_type": "code",
   "execution_count": 27,
   "metadata": {},
   "outputs": [
    {
     "data": {
      "image/png": "[encoded data removed]",
      "text/plain": [
       "<Figure size 640x480 with 1 Axes>"
      ]
     },
     "metadata": {},
     "output_type": "display_data"
    }
   ],
   "source": [
    "message_to_send.create_plot_eval_cloks(number_game=5)"
   ]
  },
  {
   "cell_type": "code",
   "execution_count": 9,
   "metadata": {},
   "outputs": [],
   "source": [
    "def create_plot_eval_cloks(self, number_game):\n",
    "    len_move = len(df['move_score_new'][number_game])\n",
    "    max_score = max(df['move_score_new'][number_game])\n",
    "    plt.bar(range(len_move), df['clocks_list_new'][number_game],\n",
    "        color='blue',\n",
    "        width=0.9,\n",
    "        bottom=1,\n",
    "        alpha=0.5)\n",
    "\n",
    "    plt.bar(range(len_move), df['move_score_new'][number_game],\n",
    "        color='orange',\n",
    "        width=0.9,\n",
    "        bottom=1,\n",
    "        alpha=0.5)\n",
    "    plt.legend(['value cloks', 'value move'])\n",
    "    plt.xticks(np.arange(0,len_move,5))\n",
    "    plt.yticks(np.arange(0,max_score,100))\n",
    "    plt.ylabel('value')\n",
    "    plt.xlabel('ordinal move')\n",
    "    plt.title('Chess Game Scores')\n",
    "    plt.savefig('sample_plot.png')"
   ]
  },
  {
   "cell_type": "code",
   "execution_count": 10,
   "metadata": {},
   "outputs": [],
   "source": [
    "df_for_control_group = pd.read_csv('./merge_eval_and_clocks_for_control_group.csv', sep=',')"
   ]
  },
  {
   "cell_type": "code",
   "execution_count": 11,
   "metadata": {},
   "outputs": [
    {
     "name": "stdout",
     "output_type": "stream",
     "text": [
      "<class 'pandas.core.frame.DataFrame'>\n",
      "RangeIndex: 180 entries, 0 to 179\n",
      "Data columns (total 7 columns):\n",
      " #   Column        Non-Null Count  Dtype \n",
      "---  ------        --------------  ----- \n",
      " 0   date          180 non-null    object\n",
      " 1   game_id       180 non-null    object\n",
      " 2   time_control  180 non-null    object\n",
      " 3   clocks_list   180 non-null    object\n",
      " 4   move_count    180 non-null    int64 \n",
      " 5   user_id       180 non-null    object\n",
      " 6   move_score    180 non-null    object\n",
      "dtypes: int64(1), object(6)\n",
      "memory usage: 10.0+ KB\n"
     ]
    }
   ],
   "source": [
    "df_for_control_group.info()"
   ]
  },
  {
   "cell_type": "code",
   "execution_count": 12,
   "metadata": {},
   "outputs": [
    {
     "data": {
      "text/html": [
       "<div>\n",
       "<style scoped>\n",
       "    .dataframe tbody tr th:only-of-type {\n",
       "        vertical-align: middle;\n",
       "    }\n",
       "\n",
       "    .dataframe tbody tr th {\n",
       "        vertical-align: top;\n",
       "    }\n",
       "\n",
       "    .dataframe thead th {\n",
       "        text-align: right;\n",
       "    }\n",
       "</style>\n",
       "<table border=\"1\" class=\"dataframe\">\n",
       "  <thead>\n",
       "    <tr style=\"text-align: right;\">\n",
       "      <th></th>\n",
       "      <th>date</th>\n",
       "      <th>game_id</th>\n",
       "      <th>time_control</th>\n",
       "      <th>clocks_list</th>\n",
       "      <th>move_count</th>\n",
       "      <th>user_id</th>\n",
       "      <th>move_score</th>\n",
       "    </tr>\n",
       "  </thead>\n",
       "  <tbody>\n",
       "    <tr>\n",
       "      <th>0</th>\n",
       "      <td>2023-04-22</td>\n",
       "      <td>Rir3nX3Y</td>\n",
       "      <td>15+30</td>\n",
       "      <td>[2.8, 7.76, 0.88, 2.56, 22.32, 6.08, 2.64, 11....</td>\n",
       "      <td>56</td>\n",
       "      <td>xx-bob</td>\n",
       "      <td>[0, 0, 10, 0, 0, -14, -14, -5, -2, 34, 8, 8, -...</td>\n",
       "    </tr>\n",
       "    <tr>\n",
       "      <th>1</th>\n",
       "      <td>2023-04-19</td>\n",
       "      <td>FAi7WYR3</td>\n",
       "      <td>20+10</td>\n",
       "      <td>[1.12, 2.0, 1.12, 2.24, 6.88, 1.04, 3.04, 24.8...</td>\n",
       "      <td>41</td>\n",
       "      <td>xx-bob</td>\n",
       "      <td>[36, 29, 34, 31, 29, 27, 17, 26, 27, 33, 35, 4...</td>\n",
       "    </tr>\n",
       "    <tr>\n",
       "      <th>2</th>\n",
       "      <td>2023-04-17</td>\n",
       "      <td>Vfgqhsfk</td>\n",
       "      <td>30+10</td>\n",
       "      <td>[0.96, 33.84, 16.24, 16.0, 2.48, 6.56, 204.72,...</td>\n",
       "      <td>33</td>\n",
       "      <td>xx-bob</td>\n",
       "      <td>[36, 29, 34, 31, 29, 21, 62, 6, -6, -23, -21, ...</td>\n",
       "    </tr>\n",
       "    <tr>\n",
       "      <th>3</th>\n",
       "      <td>2023-04-16</td>\n",
       "      <td>MBjjYlS8</td>\n",
       "      <td>20+10</td>\n",
       "      <td>[6.16, 1.76, 5.52, 3.6, 6.56, 4.08, 136.72, 16...</td>\n",
       "      <td>30</td>\n",
       "      <td>xx-bob</td>\n",
       "      <td>[0, 16, 31, 19, 0, 20, 10, 27, 38, 41, -36, 2,...</td>\n",
       "    </tr>\n",
       "    <tr>\n",
       "      <th>4</th>\n",
       "      <td>2023-04-11</td>\n",
       "      <td>zMoEC4yX</td>\n",
       "      <td>25+0</td>\n",
       "      <td>[1.44, 0.0, 0.0, 1.6, 1.28, 1.2, 1.12, 1.28, 1...</td>\n",
       "      <td>82</td>\n",
       "      <td>xx-bob</td>\n",
       "      <td>[36, 0, 25, 27, 21, 33, 26, 41, 47, -58, -55, ...</td>\n",
       "    </tr>\n",
       "  </tbody>\n",
       "</table>\n",
       "</div>"
      ],
      "text/plain": [
       "         date   game_id time_control  \\\n",
       "0  2023-04-22  Rir3nX3Y        15+30   \n",
       "1  2023-04-19  FAi7WYR3        20+10   \n",
       "2  2023-04-17  Vfgqhsfk        30+10   \n",
       "3  2023-04-16  MBjjYlS8        20+10   \n",
       "4  2023-04-11  zMoEC4yX         25+0   \n",
       "\n",
       "                                         clocks_list  move_count user_id  \\\n",
       "0  [2.8, 7.76, 0.88, 2.56, 22.32, 6.08, 2.64, 11....          56  xx-bob   \n",
       "1  [1.12, 2.0, 1.12, 2.24, 6.88, 1.04, 3.04, 24.8...          41  xx-bob   \n",
       "2  [0.96, 33.84, 16.24, 16.0, 2.48, 6.56, 204.72,...          33  xx-bob   \n",
       "3  [6.16, 1.76, 5.52, 3.6, 6.56, 4.08, 136.72, 16...          30  xx-bob   \n",
       "4  [1.44, 0.0, 0.0, 1.6, 1.28, 1.2, 1.12, 1.28, 1...          82  xx-bob   \n",
       "\n",
       "                                          move_score  \n",
       "0  [0, 0, 10, 0, 0, -14, -14, -5, -2, 34, 8, 8, -...  \n",
       "1  [36, 29, 34, 31, 29, 27, 17, 26, 27, 33, 35, 4...  \n",
       "2  [36, 29, 34, 31, 29, 21, 62, 6, -6, -23, -21, ...  \n",
       "3  [0, 16, 31, 19, 0, 20, 10, 27, 38, 41, -36, 2,...  \n",
       "4  [36, 0, 25, 27, 21, 33, 26, 41, 47, -58, -55, ...  "
      ]
     },
     "execution_count": 12,
     "metadata": {},
     "output_type": "execute_result"
    }
   ],
   "source": [
    "df_for_control_group.head()"
   ]
  },
  {
   "cell_type": "code",
   "execution_count": 13,
   "metadata": {},
   "outputs": [],
   "source": [
    "df_for_control_group['clocks_list_new'] = \\\n",
    "    [ast.literal_eval(i) for i in df_for_control_group['clocks_list']]"
   ]
  },
  {
   "cell_type": "code",
   "execution_count": 14,
   "metadata": {},
   "outputs": [],
   "source": [
    "control_group = df_for_control_group['clocks_list_new'][0]\n",
    "# control_groupe = df_for_control_group['clocks_list_new'].explode('clocks_list_new')"
   ]
  },
  {
   "cell_type": "code",
   "execution_count": 15,
   "metadata": {},
   "outputs": [],
   "source": [
    "all_data = pd.Series(control_group + test_group)"
   ]
  },
  {
   "cell_type": "code",
   "execution_count": 16,
   "metadata": {},
   "outputs": [],
   "source": [
    "all_count = round(all_data.count())\n",
    "all_mean = all_data.mean()\n",
    "all_std = all_data.std()\n",
    "sample_mean_distribution = \\\n",
    "    pd.Series([np.random.normal(all_mean, all_std, size=all_count).mean() for i in range(1000)])"
   ]
  },
  {
   "cell_type": "code",
   "execution_count": 17,
   "metadata": {},
   "outputs": [
    {
     "data": {
      "text/plain": [
       "<Axes: >"
      ]
     },
     "execution_count": 17,
     "metadata": {},
     "output_type": "execute_result"
    },
    {
     "data": {
      "image/png": "[encoded data removed]",
      "text/plain": [
       "<Figure size 640x480 with 1 Axes>"
      ]
     },
     "metadata": {},
     "output_type": "display_data"
    }
   ],
   "source": [
    "sample_mean_distribution.hist()"
   ]
  },
  {
   "cell_type": "code",
   "execution_count": 18,
   "metadata": {},
   "outputs": [
    {
     "data": {
      "image/png": "[encoded data removed]",
      "text/plain": [
       "<Figure size 640x480 with 1 Axes>"
      ]
     },
     "metadata": {},
     "output_type": "display_data"
    }
   ],
   "source": [
    "st.probplot(sample_mean_distribution, dist=\"norm\", plot=pylab)\n",
    "pylab.show()"
   ]
  },
  {
   "cell_type": "code",
   "execution_count": 19,
   "metadata": {},
   "outputs": [
    {
     "data": {
      "text/plain": [
       "0.006673964411583261"
      ]
     },
     "execution_count": 19,
     "metadata": {},
     "output_type": "execute_result"
    }
   ],
   "source": [
    "stat, p = levene(control_group, test_group, center='mean')\n",
    "p"
   ]
  },
  {
   "cell_type": "code",
   "execution_count": 20,
   "metadata": {},
   "outputs": [
    {
     "name": "stdout",
     "output_type": "stream",
     "text": [
      "0          2.80\n",
      "1          7.76\n",
      "2          0.88\n",
      "3          2.56\n",
      "4         22.32\n",
      "         ...   \n",
      "8304     104.72\n",
      "8305       5.56\n",
      "8306       5.00\n",
      "8307       7.77\n",
      "8308    2361.74\n",
      "Length: 8309, dtype: float64\n"
     ]
    }
   ],
   "source": [
    "gg = pd.Series(dtype='float64')\n",
    "for i in df_for_control_group['clocks_list_new']:\n",
    "    gg = pd.concat([gg, pd.Series(i)], ignore_index = True)\n",
    "print(gg)"
   ]
  },
  {
   "cell_type": "code",
   "execution_count": 91,
   "metadata": {},
   "outputs": [],
   "source": [
    "    def levene_test(df_for_control_group: pd.DataFrame,\n",
    "        df_for_test_group: pd.DataFrame) -> pd.DataFrame:\n",
    "        result = pd.DataFrame(columns=[\n",
    "                'levene_p_value_list'])\n",
    "\n",
    "        df_for_test_group['clocks_list_new'] = \\\n",
    "        [ast.literal_eval(i) for i in df_for_test_group['clocks_list']]\n",
    "        df_for_control_group['clocks_list_new'] = \\\n",
    "        [ast.literal_eval(i) for i in df_for_control_group['clocks_list']]\n",
    "        test_group = df_for_test_group['clocks_list_new']\n",
    "        control_group = df_for_control_group['clocks_list_new']\n",
    "\n",
    "        for i in test_group:\n",
    "            levene_p_value_list = []\n",
    "            for k in control_group:\n",
    "                stat, p = levene(k, i, center='mean')\n",
    "                levene_p_value_list.append(round(p, 3))\n",
    "            columns = {'levene_p_value_list': str(levene_p_value_list)}\n",
    "            df = pd.DataFrame(data=columns, index=[0])\n",
    "            result = \\\n",
    "            pd.concat([result, \\\n",
    "                df], ignore_index=True , join=\"outer\")\n",
    "\n",
    "        result['levene_p_value_list'] = \\\n",
    "        [ast.literal_eval(i) for i in result['levene_p_value_list']]\n",
    "\n",
    "        leven_median = []\n",
    "        for i in result['levene_p_value_list']:\n",
    "            leven_median.append(np.median(i))\n",
    "        result['levene_p_value_median'] = leven_median\n",
    "        result['game_id'] = df_for_test_group['game_id']\n",
    "\n",
    "        return result"
   ]
  },
  {
   "cell_type": "code",
   "execution_count": 93,
   "metadata": {},
   "outputs": [
    {
     "data": {
      "text/html": [
       "<div>\n",
       "<style scoped>\n",
       "    .dataframe tbody tr th:only-of-type {\n",
       "        vertical-align: middle;\n",
       "    }\n",
       "\n",
       "    .dataframe tbody tr th {\n",
       "        vertical-align: top;\n",
       "    }\n",
       "\n",
       "    .dataframe thead th {\n",
       "        text-align: right;\n",
       "    }\n",
       "</style>\n",
       "<table border=\"1\" class=\"dataframe\">\n",
       "  <thead>\n",
       "    <tr style=\"text-align: right;\">\n",
       "      <th></th>\n",
       "      <th>levene_p_value_list</th>\n",
       "      <th>levene_p_value_median</th>\n",
       "      <th>game_id</th>\n",
       "    </tr>\n",
       "  </thead>\n",
       "  <tbody>\n",
       "    <tr>\n",
       "      <th>0</th>\n",
       "      <td>[0.007, 0.047, 0.065, 0.083, 0.0, 0.002, 0.023...</td>\n",
       "      <td>0.0415</td>\n",
       "      <td>oUAgcjiN</td>\n",
       "    </tr>\n",
       "    <tr>\n",
       "      <th>1</th>\n",
       "      <td>[0.016, 0.058, 0.086, 0.102, 0.002, 0.006, 0.0...</td>\n",
       "      <td>0.0565</td>\n",
       "      <td>bQZff8t4</td>\n",
       "    </tr>\n",
       "    <tr>\n",
       "      <th>2</th>\n",
       "      <td>[0.0, 0.002, 0.0, 0.0, 0.0, 0.0, 0.0, 0.091, 0...</td>\n",
       "      <td>0.0005</td>\n",
       "      <td>h0sbNGGK</td>\n",
       "    </tr>\n",
       "    <tr>\n",
       "      <th>3</th>\n",
       "      <td>[0.094, 0.56, 0.554, 0.669, 0.006, 0.09, 0.337...</td>\n",
       "      <td>0.3635</td>\n",
       "      <td>PObmYKgw</td>\n",
       "    </tr>\n",
       "    <tr>\n",
       "      <th>4</th>\n",
       "      <td>[0.167, 0.756, 0.737, 0.863, 0.014, 0.195, 0.5...</td>\n",
       "      <td>0.4560</td>\n",
       "      <td>9UbP1n9S</td>\n",
       "    </tr>\n",
       "    <tr>\n",
       "      <th>5</th>\n",
       "      <td>[0.118, 0.866, 0.68, 0.473, 0.0, 0.25, 0.76, 0...</td>\n",
       "      <td>0.3015</td>\n",
       "      <td>0Na0ISgm</td>\n",
       "    </tr>\n",
       "    <tr>\n",
       "      <th>6</th>\n",
       "      <td>[0.004, 0.313, 0.136, 0.223, 0.0, 0.014, 0.154...</td>\n",
       "      <td>0.2060</td>\n",
       "      <td>gIp3K3P6</td>\n",
       "    </tr>\n",
       "    <tr>\n",
       "      <th>7</th>\n",
       "      <td>[0.017, 0.067, 0.094, 0.112, 0.002, 0.007, 0.0...</td>\n",
       "      <td>0.0650</td>\n",
       "      <td>3bxWGDdv</td>\n",
       "    </tr>\n",
       "    <tr>\n",
       "      <th>8</th>\n",
       "      <td>[0.012, 0.052, 0.075, 0.091, 0.001, 0.004, 0.0...</td>\n",
       "      <td>0.0500</td>\n",
       "      <td>S8h0gffE</td>\n",
       "    </tr>\n",
       "  </tbody>\n",
       "</table>\n",
       "</div>"
      ],
      "text/plain": [
       "                                 levene_p_value_list  levene_p_value_median  \\\n",
       "0  [0.007, 0.047, 0.065, 0.083, 0.0, 0.002, 0.023...                 0.0415   \n",
       "1  [0.016, 0.058, 0.086, 0.102, 0.002, 0.006, 0.0...                 0.0565   \n",
       "2  [0.0, 0.002, 0.0, 0.0, 0.0, 0.0, 0.0, 0.091, 0...                 0.0005   \n",
       "3  [0.094, 0.56, 0.554, 0.669, 0.006, 0.09, 0.337...                 0.3635   \n",
       "4  [0.167, 0.756, 0.737, 0.863, 0.014, 0.195, 0.5...                 0.4560   \n",
       "5  [0.118, 0.866, 0.68, 0.473, 0.0, 0.25, 0.76, 0...                 0.3015   \n",
       "6  [0.004, 0.313, 0.136, 0.223, 0.0, 0.014, 0.154...                 0.2060   \n",
       "7  [0.017, 0.067, 0.094, 0.112, 0.002, 0.007, 0.0...                 0.0650   \n",
       "8  [0.012, 0.052, 0.075, 0.091, 0.001, 0.004, 0.0...                 0.0500   \n",
       "\n",
       "    game_id  \n",
       "0  oUAgcjiN  \n",
       "1  bQZff8t4  \n",
       "2  h0sbNGGK  \n",
       "3  PObmYKgw  \n",
       "4  9UbP1n9S  \n",
       "5  0Na0ISgm  \n",
       "6  gIp3K3P6  \n",
       "7  3bxWGDdv  \n",
       "8  S8h0gffE  "
      ]
     },
     "execution_count": 93,
     "metadata": {},
     "output_type": "execute_result"
    }
   ],
   "source": [
    "leven = levene_test(df_for_control_group, df_for_test_group)\n",
    "leven"
   ]
  },
  {
   "cell_type": "code",
   "execution_count": 68,
   "metadata": {},
   "outputs": [
    {
     "name": "stdout",
     "output_type": "stream",
     "text": [
      "<class 'pandas.core.series.Series'>\n"
     ]
    }
   ],
   "source": [
    "ttt = pd.Series\n",
    "print(ttt)"
   ]
  },
  {
   "cell_type": "code",
   "execution_count": 32,
   "metadata": {},
   "outputs": [],
   "source": [
    "mean_a = control_group.mean()\n",
    "mean_b = test_group.mean()\n",
    "es = (mean_b - mean_a) / all_data.std()"
   ]
  },
  {
   "cell_type": "code",
   "execution_count": 33,
   "metadata": {},
   "outputs": [
    {
     "data": {
      "text/plain": [
       "99.91553977272724"
      ]
     },
     "execution_count": 33,
     "metadata": {},
     "output_type": "execute_result"
    }
   ],
   "source": [
    "mean_b"
   ]
  },
  {
   "cell_type": "code",
   "execution_count": 34,
   "metadata": {},
   "outputs": [
    {
     "data": {
      "text/plain": [
       "32.67910714285714"
      ]
     },
     "execution_count": 34,
     "metadata": {},
     "output_type": "execute_result"
    }
   ],
   "source": [
    "mean_a"
   ]
  },
  {
   "cell_type": "code",
   "execution_count": 35,
   "metadata": {},
   "outputs": [
    {
     "data": {
      "text/plain": [
       "1294.6495319074354"
      ]
     },
     "execution_count": 35,
     "metadata": {},
     "output_type": "execute_result"
    }
   ],
   "source": [
    "sms.TTestIndPower().solve_power(es, power=0.80, alpha=0.05, ratio=1/4)"
   ]
  },
  {
   "cell_type": "code",
   "execution_count": 36,
   "metadata": {},
   "outputs": [
    {
     "data": {
      "text/plain": [
       "323.66238283045044"
      ]
     },
     "execution_count": 36,
     "metadata": {},
     "output_type": "execute_result"
    }
   ],
   "source": [
    "sms.TTestIndPower().solve_power(es, power=0.80, alpha=0.05, ratio=4/1)"
   ]
  },
  {
   "cell_type": "code",
   "execution_count": 22,
   "metadata": {},
   "outputs": [
    {
     "name": "stderr",
     "output_type": "stream",
     "text": [
      "100%|██████████| 10000/10000 [00:05<00:00, 1855.46it/s]\n"
     ]
    }
   ],
   "source": [
    "n = 10000\n",
    "result = []\n",
    "for _ in tqdm(range(n)):\n",
    "  control = control_group\n",
    "  test = test_group\n",
    "  _, pval = ttest_ind(control, test, equal_var=False)\n",
    "  result.append(pval)"
   ]
  },
  {
   "cell_type": "code",
   "execution_count": 23,
   "metadata": {},
   "outputs": [
    {
     "data": {
      "text/plain": [
       "0.0"
      ]
     },
     "execution_count": 23,
     "metadata": {},
     "output_type": "execute_result"
    }
   ],
   "source": [
    "t = pd.Series(result)\n",
    "(t < 0.05).mean()"
   ]
  },
  {
   "cell_type": "code",
   "execution_count": 24,
   "metadata": {},
   "outputs": [
    {
     "data": {
      "text/plain": [
       "0.1097703989790997"
      ]
     },
     "execution_count": 24,
     "metadata": {},
     "output_type": "execute_result"
    }
   ],
   "source": [
    "t.mean()"
   ]
  },
  {
   "cell_type": "code",
   "execution_count": 97,
   "metadata": {},
   "outputs": [],
   "source": [
    "d = {'clocks_list': df_for_test_group['clocks_list_new'][26], 'move_score': df_for_test_group['move_score_new'][26]}\n",
    "df = pd.DataFrame(data=d)"
   ]
  },
  {
   "cell_type": "code",
   "execution_count": 106,
   "metadata": {},
   "outputs": [
    {
     "name": "stdout",
     "output_type": "stream",
     "text": [
      "    clocks_list  move_score\n",
      "0          0.56          21\n",
      "1          1.12           0\n",
      "2          1.44           9\n",
      "3         25.84           0\n",
      "4         11.12          35\n",
      "5          2.80          39\n",
      "6          5.12          29\n",
      "7          2.24          23\n",
      "8         13.68          37\n",
      "9         14.88          46\n",
      "10         5.60          71\n",
      "11         2.08          12\n",
      "12         6.56          58\n",
      "13         4.16          28\n",
      "14         2.00         154\n",
      "15         4.00         148\n",
      "16        20.72          30\n",
      "17         9.28          16\n",
      "18         1.60         -20\n",
      "19         2.72         -14\n",
      "20         4.48           0\n",
      "21         8.08           8\n",
      "22         2.96           0\n",
      "23         4.56         -53\n",
      "24         2.24           0\n",
      "25        14.64         -71\n",
      "26         2.72        -108\n",
      "27         1.20         -93\n",
      "28         1.12        -159\n",
      "29         3.84        -214\n",
      "30         1.92        -253\n",
      "31         1.28        -299\n",
      "32         2.16        -277\n",
      "33         4.32        -288\n",
      "34         8.56        -292\n",
      "35         8.48        -297\n",
      "36         1.52        -315\n",
      "37         6.16        -325\n",
      "38         9.60        -330\n",
      "39         5.36        -342\n",
      "40         1.84        -377\n",
      "41         0.96        -415\n",
      "42         3.36        -441\n",
      "43        15.68        -527\n",
      "44         2.32        -566\n",
      "45         8.80        -646\n",
      "46         5.44        -704\n",
      "47         5.52        -766\n",
      "48        11.52        -801\n",
      "49         3.52        -897\n",
      "50         9.36        -893\n",
      "51         4.16        -842\n",
      "52         5.01        -921\n",
      "53      1489.82        -921\n"
     ]
    }
   ],
   "source": [
    "t = df[['clocks_list', 'move_score']]"
   ]
  },
  {
   "cell_type": "code",
   "execution_count": 99,
   "metadata": {},
   "outputs": [
    {
     "name": "stdout",
     "output_type": "stream",
     "text": [
      "interval columns not set, guessing: ['clocks_list', 'move_score']\n"
     ]
    }
   ],
   "source": [
    "phik_overview = t.phik_matrix()"
   ]
  },
  {
   "cell_type": "code",
   "execution_count": 100,
   "metadata": {},
   "outputs": [
    {
     "data": {
      "text/plain": [
       "<Axes: >"
      ]
     },
     "execution_count": 100,
     "metadata": {},
     "output_type": "execute_result"
    },
    {
     "data": {
      "image/png": "[encoded data removed]",
      "text/plain": [
       "<Figure size 500x400 with 2 Axes>"
      ]
     },
     "metadata": {},
     "output_type": "display_data"
    }
   ],
   "source": [
    "plt.figure(figsize = (5,4))\n",
    "sns.heatmap(phik_overview)"
   ]
  },
  {
   "cell_type": "code",
   "execution_count": 113,
   "metadata": {},
   "outputs": [],
   "source": [
    "def add_correlation_coefficient(\n",
    "    df_for_satatistical_test: pd.DataFrame) -> pd.Series:\n",
    "\n",
    "    len_df = df_for_satatistical_test.shape[0]\n",
    "    list_df_len = list(range(0,len_df,1))\n",
    "    correlation_list = []\n",
    "\n",
    "    for i in list_df_len:\n",
    "        len_clocks = len(df_for_satatistical_test['clocks_list_new'][i])\n",
    "        len_score = len(df_for_satatistical_test['move_score_new'][i])\n",
    "        if len_clocks != len_score:\n",
    "            if len_clocks < len_score:\n",
    "                df_for_satatistical_test['clocks_list_new'][i] \\\n",
    "                    .append(df_for_satatistical_test['clocks_list_new'][i][-1])\n",
    "            else:\n",
    "                df_for_satatistical_test['move_score_new'][i] \\\n",
    "                    .append(df_for_satatistical_test['move_score_new'][i][-1])\n",
    "        else:\n",
    "            d = {\n",
    "                'clocks_list': df_for_satatistical_test['clocks_list_new'][i],\n",
    "                'move_score': df_for_satatistical_test['move_score_new'][i]}\n",
    "            df = pd.DataFrame(data=d)\n",
    "            t = df[['clocks_list', 'move_score']]\n",
    "            phik_overview = t.phik_matrix()\n",
    "            correlation_coefficient = phik_overview['clocks_list'][1]\n",
    "            correlation_list.append(correlation_coefficient)\n",
    "    result = pd.Series(correlation_list)\n",
    "    return result"
   ]
  },
  {
   "cell_type": "code",
   "execution_count": 117,
   "metadata": {},
   "outputs": [
    {
     "name": "stdout",
     "output_type": "stream",
     "text": [
      "interval columns not set, guessing: ['clocks_list', 'move_score']\n",
      "interval columns not set, guessing: ['clocks_list', 'move_score']\n",
      "interval columns not set, guessing: ['clocks_list', 'move_score']\n",
      "interval columns not set, guessing: ['clocks_list', 'move_score']\n",
      "interval columns not set, guessing: ['clocks_list', 'move_score']\n",
      "interval columns not set, guessing: ['clocks_list', 'move_score']\n",
      "interval columns not set, guessing: ['clocks_list', 'move_score']\n",
      "interval columns not set, guessing: ['clocks_list', 'move_score']\n",
      "interval columns not set, guessing: ['clocks_list', 'move_score']\n",
      "interval columns not set, guessing: ['clocks_list', 'move_score']\n",
      "interval columns not set, guessing: ['clocks_list', 'move_score']\n",
      "interval columns not set, guessing: ['clocks_list', 'move_score']\n",
      "interval columns not set, guessing: ['clocks_list', 'move_score']\n",
      "interval columns not set, guessing: ['clocks_list', 'move_score']\n",
      "interval columns not set, guessing: ['clocks_list', 'move_score']\n",
      "interval columns not set, guessing: ['clocks_list', 'move_score']\n",
      "interval columns not set, guessing: ['clocks_list', 'move_score']\n",
      "interval columns not set, guessing: ['clocks_list', 'move_score']\n",
      "interval columns not set, guessing: ['clocks_list', 'move_score']\n",
      "interval columns not set, guessing: ['clocks_list', 'move_score']\n",
      "interval columns not set, guessing: ['clocks_list', 'move_score']\n",
      "interval columns not set, guessing: ['clocks_list', 'move_score']\n",
      "interval columns not set, guessing: ['clocks_list', 'move_score']\n",
      "interval columns not set, guessing: ['clocks_list', 'move_score']\n",
      "interval columns not set, guessing: ['clocks_list', 'move_score']\n",
      "interval columns not set, guessing: ['clocks_list', 'move_score']\n",
      "interval columns not set, guessing: ['clocks_list', 'move_score']\n"
     ]
    }
   ],
   "source": [
    "rd = add_correlation_coefficient(df_for_test_group)\n",
    "df_for_test_group['correlation_coefficient'] = rd"
   ]
  }
 ],
 "metadata": {
  "kernelspec": {
   "display_name": "Python 3",
   "language": "python",
   "name": "python3"
  },
  "language_info": {
   "codemirror_mode": {
    "name": "ipython",
    "version": 3
   },
   "file_extension": ".py",
   "mimetype": "text/x-python",
   "name": "python",
   "nbconvert_exporter": "python",
   "pygments_lexer": "ipython3",
   "version": "3.11.1"
  },
  "orig_nbformat": 4
 },
 "nbformat": 4,
 "nbformat_minor": 2
}
